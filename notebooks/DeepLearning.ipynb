{
 "cells": [
  {
   "cell_type": "code",
   "execution_count": 1,
   "metadata": {
    "collapsed": false
   },
   "outputs": [],
   "source": [
    "import imp\n",
    "#model = imp.load_source('model', '../modules/model.py')\n",
    "svhn_images = imp.load_source('svhn_images', '../modules/svhn_images.py')"
   ]
  },
  {
   "cell_type": "code",
   "execution_count": null,
   "metadata": {
    "collapsed": false
   },
   "outputs": [],
   "source": [
    "tf_graph = model.getGraph()\n",
    "session = model.init_interactive_session(tf_graph)"
   ]
  },
  {
   "cell_type": "code",
   "execution_count": null,
   "metadata": {
    "collapsed": false
   },
   "outputs": [],
   "source": [
    "model.load_saved_model('/flat2/saved_models/SVHN_3_digit_May7', session)"
   ]
  },
  {
   "cell_type": "code",
   "execution_count": null,
   "metadata": {
    "collapsed": false
   },
   "outputs": [],
   "source": [
    "#import matplotlib.image as mpimg\n",
    "#import matplotlib.pyplot as plt\n",
    "#import matplotlib.patches as patches\n",
    "#from matplotlib.patches import Rectangle\n",
    "#from PIL import Image\n",
    "#%matplotlib inline\n",
    "\n",
    "\n"
   ]
  },
  {
   "cell_type": "markdown",
   "metadata": {},
   "source": [
    "# Download SVHN"
   ]
  },
  {
   "cell_type": "code",
   "execution_count": null,
   "metadata": {
    "collapsed": false
   },
   "outputs": [],
   "source": [
    "data_kind = 'test'\n",
    "\n",
    "svhn_images.download_and_extract_SVHN(data_kind, '/flat2/sandbox')\n",
    "svhn_images.separate_SVHN_images_labels('../data/SVHN/%s' % data_kind, \\\n",
    "                           '/home/ubuntu/Capstone/notebooks/SVHN/original_dataset/%s' %data_kind,\n",
    "                           '/flat2/sandbox')\n",
    "\n",
    "data_kind = 'train'\n",
    "\n",
    "svhn_images.download_and_extract_SVHN(data_kind, '/flat2/sandbox')\n",
    "svhn_images.separate_SVHN_images_labels('../data/SVHN/%s' % data_kind, \\\n",
    "                           '/home/ubuntu/Capstone/notebooks/SVHN/original_dataset/%s' % data_kind,\n",
    "                           '/flat2/sandbox')"
   ]
  },
  {
   "cell_type": "code",
   "execution_count": null,
   "metadata": {
    "collapsed": true
   },
   "outputs": [],
   "source": []
  }
 ],
 "metadata": {
  "kernelspec": {
   "display_name": "Python 2",
   "language": "python",
   "name": "python2"
  },
  "language_info": {
   "codemirror_mode": {
    "name": "ipython",
    "version": 2
   },
   "file_extension": ".py",
   "mimetype": "text/x-python",
   "name": "python",
   "nbconvert_exporter": "python",
   "pygments_lexer": "ipython2",
   "version": "2.7.6"
  }
 },
 "nbformat": 4,
 "nbformat_minor": 0
}
