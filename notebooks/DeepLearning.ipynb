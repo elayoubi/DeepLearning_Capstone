{
 "cells": [
  {
   "cell_type": "code",
   "execution_count": 4,
   "metadata": {
    "collapsed": false
   },
   "outputs": [],
   "source": [
    "import imp\n",
    "model = imp.load_source('model', '../modules/model.py')\n",
    "svhn_images = imp.load_source('svhn_images', '../modules/svhn_images.py')"
   ]
  },
  {
   "cell_type": "code",
   "execution_count": 5,
   "metadata": {
    "collapsed": false
   },
   "outputs": [],
   "source": [
    "tf_graph = model.getGraph()\n",
    "session = model.init_interactive_session(tf_graph)"
   ]
  },
  {
   "cell_type": "code",
   "execution_count": 6,
   "metadata": {
    "collapsed": false
   },
   "outputs": [],
   "source": [
    "model.load_saved_model('/flat2/saved_models/SVHN_3_digit_May7', session)"
   ]
  },
  {
   "cell_type": "code",
   "execution_count": 8,
   "metadata": {
    "collapsed": false
   },
   "outputs": [
    {
     "name": "stdout",
     "output_type": "stream",
     "text": [
      "Help on function download_and_extract_SVHN in module svhn_images:\n",
      "\n",
      "download_and_extract_SVHN(data_kind, outpath, mat_file)\n",
      "    Download and extract SVHN from its URL. data_kind should be either \"test\" or \"train\" \n",
      "    Function then produces a directory structure so each image has a text label file describing it\n",
      "\n"
     ]
    }
   ],
   "source": [
    "#import matplotlib.image as mpimg\n",
    "#import matplotlib.pyplot as plt\n",
    "#import matplotlib.patches as patches\n",
    "#from matplotlib.patches import Rectangle\n",
    "#from PIL import Image\n",
    "#%matplotlib inline\n",
    "\n"
   ]
  },
  {
   "cell_type": "markdown",
   "metadata": {},
   "source": [
    "# Download SVHN and extract from label file"
   ]
  },
  {
   "cell_type": "code",
   "execution_count": 2,
   "metadata": {
    "collapsed": false
   },
   "outputs": [
    {
     "name": "stdout",
     "output_type": "stream",
     "text": [
      "Processing train\n",
      "Downloading train\n",
      "Finished downloading train\n",
      "Extracting train\n",
      "Finished extracting train\n",
      "Starting image 1.png \n",
      "Starting image 1001.png \n",
      "Starting image 2001.png \n",
      "Starting image 3001.png \n",
      "Starting image 4001.png \n",
      "Starting image 5001.png \n",
      "Starting image 6001.png \n",
      "Starting image 7001.png \n",
      "Starting image 8001.png \n",
      "Starting image 9001.png \n",
      "Starting image 10001.png \n",
      "Starting image 11001.png \n",
      "Starting image 12001.png \n",
      "Starting image 13001.png \n",
      "Starting image 14001.png \n",
      "Starting image 15001.png \n",
      "Starting image 16001.png \n",
      "Starting image 17001.png \n",
      "Starting image 18001.png \n",
      "Starting image 19001.png \n",
      "Starting image 20001.png \n",
      "Starting image 21001.png \n",
      "Starting image 22001.png \n",
      "Starting image 23001.png \n",
      "Starting image 24001.png \n",
      "Starting image 25001.png \n",
      "Starting image 26001.png \n",
      "Starting image 27001.png \n",
      "Starting image 28001.png \n",
      "Starting image 29001.png \n",
      "Starting image 30001.png \n",
      "Starting image 31001.png \n",
      "Starting image 32001.png \n",
      "Starting image 33001.png \n",
      "Completed 33402 images\n",
      "Finished processing train\n",
      "Processing test\n",
      "Downloading test\n",
      "Finished downloading test\n",
      "Extracting test\n",
      "Finished extracting test\n",
      "Starting image 1.png \n",
      "Starting image 1001.png \n",
      "Starting image 2001.png \n",
      "Starting image 3001.png \n",
      "Starting image 4001.png \n",
      "Starting image 5001.png \n",
      "Starting image 6001.png \n",
      "Starting image 7001.png \n",
      "Starting image 8001.png \n",
      "Starting image 9001.png \n",
      "Starting image 10001.png \n",
      "Starting image 11001.png \n",
      "Starting image 12001.png \n",
      "Starting image 13001.png \n",
      "Completed 13068 images\n",
      "Finished processing test\n"
     ]
    }
   ],
   "source": [
    "import os\n",
    "\n",
    "outpath='/mnt/sandbox/raw'\n",
    "if not os.path.exists(outpath): \n",
    "    os.mkdir(outpath)\n",
    "\n",
    "for data_kind in ['train', 'test']:\n",
    "    print \"Processing %s\" % data_kind\n",
    "\n",
    "    svhn_images.download_and_extract_SVHN(data_kind, outpath, '../data/SVHN/%s' % data_kind)\n",
    "\n",
    "    print \"Finished processing %s\" % data_kind"
   ]
  },
  {
   "cell_type": "code",
   "execution_count": null,
   "metadata": {
    "collapsed": true
   },
   "outputs": [],
   "source": []
  }
 ],
 "metadata": {
  "kernelspec": {
   "display_name": "Python 2",
   "language": "python",
   "name": "python2"
  },
  "language_info": {
   "codemirror_mode": {
    "name": "ipython",
    "version": 2
   },
   "file_extension": ".py",
   "mimetype": "text/x-python",
   "name": "python",
   "nbconvert_exporter": "python",
   "pygments_lexer": "ipython2",
   "version": "2.7.6"
  }
 },
 "nbformat": 4,
 "nbformat_minor": 0
}
